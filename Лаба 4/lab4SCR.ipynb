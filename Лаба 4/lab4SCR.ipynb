{
  "cells": [
    {
      "cell_type": "markdown",
      "metadata": {
        "id": "EPh03pkZGSfs"
      },
      "source": [
        "# **Создание графического интерфейса (GUI) на PyQt5**"
      ]
    },
    {
      "cell_type": "code",
      "execution_count": null,
      "metadata": {
        "colab": {
          "base_uri": "https://localhost:8080/",
          "height": 383
        },
        "id": "iACPMmt0GK8z",
        "outputId": "41e7b9c6-cf50-48be-f9f0-1caaea78f500"
      },
      "outputs": [],
      "source": [
        "import sys\n",
        "from PyQt5.QtWidgets import QApplication, QMainWindow, QTableView, QVBoxLayout, QWidget, QPushButton, QLineEdit\n",
        "\n",
        "class MainWindow(QMainWindow):\n",
        "    def __init__(self):\n",
        "        super().__init__()\n",
        "\n",
        "        self.setWindowTitle(\"Database Viewer\")\n",
        "\n",
        "        # Поле поиска\n",
        "        self.search_field = QLineEdit(self)\n",
        "        self.search_field.setPlaceholderText(\"Поиск по заголовку...\")\n",
        "\n",
        "        # Кнопки\n",
        "        self.refresh_button = QPushButton(\"Обновить\", self)\n",
        "        self.add_button = QPushButton(\"Добавить\", self)\n",
        "        self.delete_button = QPushButton(\"Удалить\", self)\n",
        "\n",
        "        # Таблица\n",
        "        self.table_view = QTableView(self)\n",
        "\n",
        "        # Layout\n",
        "        layout = QVBoxLayout()\n",
        "        layout.addWidget(self.search_field)\n",
        "        layout.addWidget(self.table_view)\n",
        "        layout.addWidget(self.refresh_button)\n",
        "        layout.addWidget(self.add_button)\n",
        "        layout.addWidget(self.delete_button)\n",
        "\n",
        "        container = QWidget()\n",
        "        container.setLayout(layout)\n",
        "        self.setCentralWidget(container)\n",
        "\n",
        "app = QApplication(sys.argv)\n",
        "window = MainWindow()\n",
        "window.show()\n",
        "sys.exit(app.exec_())\n"
      ]
    },
    {
      "cell_type": "markdown",
      "metadata": {
        "id": "eLkHq7VNGTwc"
      },
      "source": [
        "# **Подключение к базе данных**"
      ]
    },
    {
      "cell_type": "code",
      "execution_count": null,
      "metadata": {
        "colab": {
          "base_uri": "https://localhost:8080/",
          "height": 383
        },
        "id": "BY33W29nGT5U",
        "outputId": "60937dca-3083-4fb5-a6ad-cd307e615ea4"
      },
      "outputs": [],
      "source": [
        "import sqlite3\n",
        "from PyQt5.QtSql import QSqlDatabase, QSqlTableModel\n",
        "\n",
        "conn = sqlite3.connect('database.db')\n",
        "\n",
        "self.model = QSqlTableModel()\n",
        "self.model.setTable('table_name')\n",
        "self.model.select()\n",
        "\n",
        "self.table_view.setModel(self.model)\n"
      ]
    },
    {
      "cell_type": "markdown",
      "metadata": {
        "id": "-d4HA1S8GUA8"
      },
      "source": [
        "# **Добавление новых записей**"
      ]
    },
    {
      "cell_type": "code",
      "execution_count": null,
      "metadata": {
        "id": "5gn_TIIjGUI0"
      },
      "outputs": [],
      "source": [
        "def add_record(self, user_id, title, body):\n",
        "    query = f\"INSERT INTO table_name (user_id, title, body) VALUES (?, ?, ?)\"\n",
        "    cursor = conn.cursor()\n",
        "    cursor.execute(query, (user_id, title, body))\n",
        "    conn.commit()\n",
        "    self.model.select() "
      ]
    },
    {
      "cell_type": "markdown",
      "metadata": {
        "id": "AflyZIn1GUcU"
      },
      "source": [
        "# **Удаление записей**"
      ]
    },
    {
      "cell_type": "code",
      "execution_count": null,
      "metadata": {
        "id": "tlAjvbMQGUid"
      },
      "outputs": [],
      "source": [
        "def delete_record(self):\n",
        "    selected_row = self.table_view.selectionModel().selectedRows()[0].row()\n",
        "    self.model.removeRow(selected_row)\n",
        "    self.model.submitAll() \n",
        "    self.model.select()  \n"
      ]
    }
  ],
  "metadata": {
    "colab": {
      "provenance": []
    },
    "kernelspec": {
      "display_name": "Python 3",
      "name": "python3"
    },
    "language_info": {
      "codemirror_mode": {
        "name": "ipython",
        "version": 3
      },
      "file_extension": ".py",
      "mimetype": "text/x-python",
      "name": "python",
      "nbconvert_exporter": "python",
      "pygments_lexer": "ipython3",
      "version": "3.11.9"
    }
  },
  "nbformat": 4,
  "nbformat_minor": 0
}
