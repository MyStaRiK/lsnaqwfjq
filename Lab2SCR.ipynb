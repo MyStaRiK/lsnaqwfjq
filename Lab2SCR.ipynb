{
  "nbformat": 4,
  "nbformat_minor": 0,
  "metadata": {
    "colab": {
      "provenance": []
    },
    "kernelspec": {
      "name": "python3",
      "display_name": "Python 3"
    },
    "language_info": {
      "name": "python"
    }
  },
  "cells": [
    {
      "cell_type": "markdown",
      "source": [
        "**Задание 1**"
      ],
      "metadata": {
        "id": "Ifmbk2xVCqnc"
      }
    },
    {
      "cell_type": "code",
      "source": [
        "import socket\n",
        "import threading\n",
        "import time"
      ],
      "metadata": {
        "id": "bxYbSaLRERgR"
      },
      "execution_count": 30,
      "outputs": []
    },
    {
      "cell_type": "code",
      "source": [
        "def tcp_server():\n",
        "    server_socket = socket.socket(socket.AF_INET, socket.SOCK_STREAM)\n",
        "    server_socket.bind(('127.0.0.1', 65433))\n",
        "\n",
        "    server_socket.listen(1)\n",
        "    print('TCP сервер ожидает подключения...')\n",
        "\n",
        "    conn, addr = server_socket.accept()\n",
        "    print(f'Подключение от {addr}')\n",
        "\n",
        "    while True:\n",
        "        data = conn.recv(1024)\n",
        "        if not data:\n",
        "            break\n",
        "        print(f'Получено: {data.decode()}')\n",
        "        conn.sendall(data)\n",
        "\n",
        "    conn.close()"
      ],
      "metadata": {
        "id": "ytOLcwBKCs2r"
      },
      "execution_count": 31,
      "outputs": []
    },
    {
      "cell_type": "code",
      "source": [
        "def tcp_client():\n",
        "    client_socket = socket.socket(socket.AF_INET, socket.SOCK_STREAM)\n",
        "\n",
        "    client_socket.connect(('127.0.0.1', 65433))\n",
        "\n",
        "    message = 'Соединение1'\n",
        "    client_socket.sendall(message.encode())\n",
        "\n",
        "    data = client_socket.recv(1024)\n",
        "    print(f'Ответ от сервера: {data.decode()}')\n",
        "\n",
        "    client_socket.close()"
      ],
      "metadata": {
        "id": "9YRsLPqFC4kD"
      },
      "execution_count": 32,
      "outputs": []
    },
    {
      "cell_type": "markdown",
      "source": [
        "**Задание 2**"
      ],
      "metadata": {
        "id": "2OArJsoQDK20"
      }
    },
    {
      "cell_type": "code",
      "source": [
        "def udp_server():\n",
        "    server_socket = socket.socket(socket.AF_INET, socket.SOCK_DGRAM)\n",
        "    server_socket.bind(('127.0.0.1', 65433))\n",
        "    print('UDP сервер ожидает сообщений...')\n",
        "\n",
        "    server_socket.settimeout(10)\n",
        "    try:\n",
        "        while True:\n",
        "            data, addr = server_socket.recvfrom(1024)\n",
        "            print(f'Получено от {addr}: {data.decode()}')\n",
        "            server_socket.sendto(data, addr)\n",
        "    except socket.timeout:\n",
        "        print(\"Время ожидания истекло. Сервер завершает работу.\")\n",
        "        server_socket.close()"
      ],
      "metadata": {
        "id": "yYD05hYMDPri"
      },
      "execution_count": 33,
      "outputs": []
    },
    {
      "cell_type": "code",
      "source": [
        "def udp_client():\n",
        "    time.sleep(1)\n",
        "    client_socket = socket.socket(socket.AF_INET, socket.SOCK_DGRAM)\n",
        "\n",
        "    message = 'Соединени2'\n",
        "    client_socket.sendto(message.encode(), ('127.0.0.1', 65433))\n",
        "\n",
        "    data, addr = client_socket.recvfrom(1024)\n",
        "    print(f'Ответ от сервера: {data.decode()}')\n",
        "\n",
        "    client_socket.close()"
      ],
      "metadata": {
        "id": "4qL98kwEDUgE"
      },
      "execution_count": 34,
      "outputs": []
    },
    {
      "cell_type": "code",
      "source": [
        "def run_tcp_server():\n",
        "    tcp_server()\n",
        "\n",
        "def run_tcp_client():\n",
        "    tcp_client()\n",
        "\n",
        "def run_udp_server():\n",
        "    udp_server()\n",
        "\n",
        "def run_udp_client():\n",
        "    udp_client()"
      ],
      "metadata": {
        "id": "pRIZntcxEpbz"
      },
      "execution_count": 35,
      "outputs": []
    },
    {
      "cell_type": "markdown",
      "source": [
        "**Отладка**"
      ],
      "metadata": {
        "id": "tcKElBvkEivk"
      }
    },
    {
      "cell_type": "code",
      "source": [
        "# Запуск TCP-сервера\n",
        "tcp_server_thread = threading.Thread(target=run_tcp_server)\n",
        "tcp_client_thread = threading.Thread(target=run_tcp_client)\n",
        "\n",
        "tcp_server_thread.start()\n",
        "tcp_client_thread.start()\n",
        "\n",
        "# Запуск UDP-сервера\n",
        "udp_server_thread = threading.Thread(target=run_udp_server)\n",
        "udp_client_thread = threading.Thread(target=run_udp_client)\n",
        "\n",
        "udp_server_thread.start()\n",
        "udp_client_thread.start()\n",
        "\n",
        "# Ожидаем завершения всех потоков\n",
        "tcp_server_thread.join()\n",
        "tcp_client_thread.join()\n",
        "udp_server_thread.join()\n",
        "udp_client_thread.join()"
      ],
      "metadata": {
        "colab": {
          "base_uri": "https://localhost:8080/"
        },
        "id": "UA3UhKuWEm0q",
        "outputId": "ed3ed75a-59eb-4419-f032-6289a8573103"
      },
      "execution_count": 36,
      "outputs": [
        {
          "output_type": "stream",
          "name": "stdout",
          "text": [
            "TCP сервер ожидает подключения...\n",
            "Подключение от ('127.0.0.1', 53444)\n",
            "Получено: Соединение1\n",
            "Ответ от сервера: Соединение1\n",
            "UDP сервер ожидает сообщений...\n",
            "Получено от ('127.0.0.1', 58435): Соединени2\n",
            "Ответ от сервера: Соединени2\n",
            "Время ожидания истекло. Сервер завершает работу.\n"
          ]
        }
      ]
    }
  ]
}